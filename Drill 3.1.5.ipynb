{
 "cells": [
  {
   "cell_type": "code",
   "execution_count": 2,
   "metadata": {},
   "outputs": [],
   "source": [
    "import numpy as np\n",
    "import pandas as pd\n",
    "import statistics"
   ]
  },
  {
   "cell_type": "code",
   "execution_count": 8,
   "metadata": {},
   "outputs": [
    {
     "name": "stdout",
     "output_type": "stream",
     "text": [
      "9.857142857142858\n",
      "10.0\n",
      "8\n",
      "2.531435020952764\n",
      "1.0334540197243192\n"
     ]
    }
   ],
   "source": [
    "#1 \n",
    "df = pd.DataFrame()\n",
    "df['age'] = [14, 12, 11, 10, 8, 6, 8]\n",
    "print(np.mean(df['age']))\n",
    "print(np.median(df['age']))\n",
    "print(statistics.mode(df['age']))\n",
    "print(np.std(df['age']))\n",
    "print(np.std(df['age'] ,ddof=1) / np.sqrt(len(df['age'])))"
   ]
  },
  {
   "cell_type": "markdown",
   "metadata": {},
   "source": [
    "2. I would use mean and standard deviation to describe the data, because mean will tell us what the average of all of the ages is, and the standard deviation will give us a sense of how spread out the rest of the numbers are from the average. Since the standard deviation is pretty low, it tells us that the rest of the ages are relatively close to the average (9.8)"
   ]
  },
  {
   "cell_type": "code",
   "execution_count": 10,
   "metadata": {},
   "outputs": [
    {
     "name": "stdout",
     "output_type": "stream",
     "text": [
      "10.0\n",
      "10.0\n",
      "8\n",
      "2.32992949004287\n",
      "0.9511897312113418\n"
     ]
    }
   ],
   "source": [
    "#3\n",
    "df['age2'] = [14, 12, 11, 10, 8, 7, 8]\n",
    "print(np.mean(df['age2']))\n",
    "print(np.median(df['age2']))\n",
    "print(statistics.mode(df['age2']))\n",
    "print(np.std(df['age2']))\n",
    "print(np.std(df['age2'] ,ddof=1) / np.sqrt(len(df['age2'])))"
   ]
  },
  {
   "cell_type": "markdown",
   "metadata": {},
   "source": [
    "3. The mean increased. Mode and median stayed the same. Variance, Standard Deviation, and Standard Error all went down."
   ]
  },
  {
   "cell_type": "code",
   "execution_count": 11,
   "metadata": {},
   "outputs": [
    {
     "name": "stdout",
     "output_type": "stream",
     "text": [
      "9.0\n",
      "10.0\n",
      "3.927922024247863\n",
      "1.6035674514745462\n"
     ]
    }
   ],
   "source": [
    "#4 \n",
    "df['age3'] = [14, 12, 11, 10, 8, 7, 1]\n",
    "print(np.mean(df['age3']))\n",
    "print(np.median(df['age3']))\n",
    "print(np.std(df['age3']))\n",
    "print(np.std(df['age3'] ,ddof=1) / np.sqrt(len(df['age3'])))"
   ]
  },
  {
   "cell_type": "markdown",
   "metadata": {},
   "source": [
    "Since the added age is an outlier (1), I would use the median instead of the mean. "
   ]
  },
  {
   "cell_type": "markdown",
   "metadata": {},
   "source": [
    "Estimate: 20 + 23 + 17 / 3 = 20% (Decided not to include the SciPhi Phanatic numbers because it was an outlier, and drastically skewed the data). "
   ]
  }
 ],
 "metadata": {
  "kernelspec": {
   "display_name": "Python 3",
   "language": "python",
   "name": "python3"
  },
  "language_info": {
   "codemirror_mode": {
    "name": "ipython",
    "version": 3
   },
   "file_extension": ".py",
   "mimetype": "text/x-python",
   "name": "python",
   "nbconvert_exporter": "python",
   "pygments_lexer": "ipython3",
   "version": "3.7.1"
  }
 },
 "nbformat": 4,
 "nbformat_minor": 2
}
